{
 "cells": [
  {
   "cell_type": "code",
   "execution_count": 62,
   "metadata": {},
   "outputs": [
    {
     "data": {
      "text/html": [
       "        <script type=\"text/javascript\">\n",
       "        window.PlotlyConfig = {MathJaxConfig: 'local'};\n",
       "        if (window.MathJax && window.MathJax.Hub && window.MathJax.Hub.Config) {window.MathJax.Hub.Config({SVG: {font: \"STIX-Web\"}});}\n",
       "        if (typeof require !== 'undefined') {\n",
       "        require.undef(\"plotly\");\n",
       "        requirejs.config({\n",
       "            paths: {\n",
       "                'plotly': ['https://cdn.plot.ly/plotly-2.16.1.min']\n",
       "            }\n",
       "        });\n",
       "        require(['plotly'], function(Plotly) {\n",
       "            window._Plotly = Plotly;\n",
       "        });\n",
       "        }\n",
       "        </script>\n",
       "        "
      ]
     },
     "metadata": {},
     "output_type": "display_data"
    }
   ],
   "source": [
    "import numpy as np\n",
    "import matplotlib.pyplot as plt\n",
    "\n",
    "from mpl_toolkits import mplot3d\n",
    "import plotly.graph_objects as go\n",
    "import cufflinks as cf\n",
    "cf.set_config_file(offline=True, dimensions=((1000,600)), theme = 'white')\n",
    "\n",
    "%matplotlib inline\n",
    "\n",
    "\n",
    "from option_param import Parameters # ignore\n",
    "from bsm import BSM # ignore\n",
    "\n"
   ]
  },
  {
   "cell_type": "code",
   "execution_count": 63,
   "metadata": {},
   "outputs": [
    {
     "name": "stdout",
     "output_type": "stream",
     "text": [
      "Options                          |  Call          |  Put          \n",
      "______________________________________________________________________________\n",
      "vanilla                          |  7.1946759     |  -7.1946759  \n",
      "binary_cash_or_nothing           |  0.4756147     |  0.4756147   \n",
      "binary_asset_or_nothing          |  50.0000000    |  50.0000000  \n",
      "up_and_in                        |  13.0295079    |  0.0425505   \n",
      "up_and_out                       |  -5.8348320    |  -7.2372264  \n",
      "down_and_in                      |  7.1946759     |  -7.1946759  \n",
      "down_and_out                     |  0.0000000     |  0.0000000   \n",
      "vanilla_delta                    |  0.5000000     |  -0.5000000  \n",
      "binary_cash_or_nothing_delta     |  0.0189743     |  -0.0189743  \n",
      "binary_asset_or_nothing_delta    |  2.4947114     |  -1.4947114  \n",
      "vanilla_gamma                    |  0.0199471     |  0.0199471   \n",
      "binary_cash_or_nothing_gamma     |  -0.0000000    |  0.0000000   \n",
      "binary_asset_or_nothing_gamma    |  -0.0000000    |  0.0000000   \n",
      "vanilla_vega                     |  39.8942280    |  39.8942280  \n",
      "binary_cash_or_nothing_vega      |  -0.0000000    |  0.0000000   \n",
      "binary_asset_or_nothing_vega     |  -0.0000000    |  0.0000000   \n",
      "vanilla_theta                    |  -6.1296890    |  -1.8491566  \n",
      "binary_cash_or_nothing_theta     |  0.0952763     |  -0.0477148  \n",
      "binary_asset_or_nothing_theta    |  3.5267012     |  -3.5267012  \n",
      "vanilla_rho                      |  42.8053241    |  -42.8053241 \n",
      "binary_cash_or_nothing_rho       |  1.4218135     |  -2.3730429  \n",
      "binary_asset_or_nothing_rho      |  199.4711402   |  -199.4711402\n"
     ]
    }
   ],
   "source": [
    "a = Parameters(100,90,0,1,0.05,0.0,0.2)\n",
    "aa = BSM(a)\n",
    "aa.set_results()\n",
    "aa.set_barrier(120)\n",
    "aa.get_results()"
   ]
  },
  {
   "cell_type": "code",
   "execution_count": 64,
   "metadata": {},
   "outputs": [
    {
     "data": {
      "text/plain": [
       "0"
      ]
     },
     "execution_count": 64,
     "metadata": {},
     "output_type": "execute_result"
    }
   ],
   "source": [
    "aa.d1"
   ]
  },
  {
   "cell_type": "code",
   "execution_count": 61,
   "metadata": {},
   "outputs": [
    {
     "data": {
      "text/plain": [
       "0"
      ]
     },
     "execution_count": 61,
     "metadata": {},
     "output_type": "execute_result"
    }
   ],
   "source": [
    "aa.d2"
   ]
  },
  {
   "cell_type": "code",
   "execution_count": 13,
   "metadata": {},
   "outputs": [
    {
     "name": "stdout",
     "output_type": "stream",
     "text": [
      "Options                          |  Call          |  Put          \n",
      "______________________________________________________________________________\n",
      "vanilla                          |  -2.3176183    |  2.3176183   \n",
      "binary_cash_or_nothing           |  0.4756147     |  0.4756147   \n",
      "binary_asset_or_nothing          |  50.0000000    |  50.0000000  \n",
      "up_and_in                        |  5.8884788     |  0.7531962   \n",
      "up_and_out                       |  -8.2060972    |  1.5644221   \n",
      "down_and_in                      |  -2.3176183    |  2.3176183   \n",
      "down_and_out                     |  0.0000000     |  0.0000000   \n",
      "vanilla_delta                    |  0.5000000     |  -0.5000000  \n",
      "binary_cash_or_nothing_delta     |  0.0189743     |  -0.0189743  \n",
      "binary_asset_or_nothing_delta    |  2.4947114     |  -1.4947114  \n",
      "vanilla_gamma                    |  0.0199471     |  0.0199471   \n",
      "binary_cash_or_nothing_gamma     |  -0.0000000    |  0.0000000   \n",
      "binary_asset_or_nothing_gamma    |  -0.0000000    |  0.0000000   \n",
      "vanilla_vega                     |  39.8942280    |  39.8942280  \n",
      "binary_cash_or_nothing_vega      |  -0.0000000    |  0.0000000   \n",
      "binary_asset_or_nothing_vega     |  -0.0000000    |  0.0000000   \n",
      "vanilla_theta                    |  -6.6053037    |  -1.3735419  \n",
      "binary_cash_or_nothing_theta     |  -0.0951028    |  0.1426643   \n",
      "binary_asset_or_nothing_theta    |  -16.4873050   |  16.4873050  \n",
      "vanilla_rho                      |  52.3176183    |  -52.3176183 \n",
      "binary_cash_or_nothing_rho       |  1.4218135     |  -2.3730429  \n",
      "binary_asset_or_nothing_rho      |  199.4711402   |  -199.4711402\n"
     ]
    }
   ],
   "source": [
    "b = Parameters(100,110,0,1,0.05,0.0,0.2)\n",
    "bb = BSM(b)\n",
    "bb.set_results()\n",
    "bb.set_barrier(120)\n",
    "bb.get_results()"
   ]
  },
  {
   "cell_type": "code",
   "execution_count": null,
   "metadata": {},
   "outputs": [],
   "source": []
  }
 ],
 "metadata": {
  "kernelspec": {
   "display_name": "Python 3.10.0 64-bit",
   "language": "python",
   "name": "python3"
  },
  "language_info": {
   "codemirror_mode": {
    "name": "ipython",
    "version": 3
   },
   "file_extension": ".py",
   "mimetype": "text/x-python",
   "name": "python",
   "nbconvert_exporter": "python",
   "pygments_lexer": "ipython3",
   "version": "3.10.0"
  },
  "orig_nbformat": 4,
  "vscode": {
   "interpreter": {
    "hash": "97193d53918a3aef13fbd15706d01f7fefd20725039d4af3a3671b100d98bc00"
   }
  }
 },
 "nbformat": 4,
 "nbformat_minor": 2
}
